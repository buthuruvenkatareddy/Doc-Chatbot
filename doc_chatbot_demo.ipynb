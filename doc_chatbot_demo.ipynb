{
 "cells": [
  {
   "cell_type": "code",
   "execution_count": 57,
   "id": "16496f6e",
   "metadata": {},
   "outputs": [
    {
     "name": "stdout",
     "output_type": "stream",
     "text": [
      "Requirement already satisfied: faiss-cpu in c:\\users\\venkat\\downloads\\chat_design\\.venv\\lib\\site-packages (1.11.0)\n",
      "Requirement already satisfied: sentence-transformers in c:\\users\\venkat\\downloads\\chat_design\\.venv\\lib\\site-packages (5.0.0)\n",
      "Requirement already satisfied: cohere in c:\\users\\venkat\\downloads\\chat_design\\.venv\\lib\\site-packages (5.16.1)\n",
      "Requirement already satisfied: PyPDF2 in c:\\users\\venkat\\downloads\\chat_design\\.venv\\lib\\site-packages (3.0.1)\n",
      "Requirement already satisfied: python-dotenv in c:\\users\\venkat\\downloads\\chat_design\\.venv\\lib\\site-packages (1.1.1)\n",
      "Requirement already satisfied: numpy<3.0,>=1.25.0 in c:\\users\\venkat\\downloads\\chat_design\\.venv\\lib\\site-packages (from faiss-cpu) (2.3.1)\n",
      "Requirement already satisfied: packaging in c:\\users\\venkat\\downloads\\chat_design\\.venv\\lib\\site-packages (from faiss-cpu) (25.0)\n",
      "Requirement already satisfied: transformers<5.0.0,>=4.41.0 in c:\\users\\venkat\\downloads\\chat_design\\.venv\\lib\\site-packages (from sentence-transformers) (4.53.1)\n",
      "Requirement already satisfied: tqdm in c:\\users\\venkat\\downloads\\chat_design\\.venv\\lib\\site-packages (from sentence-transformers) (4.67.1)\n",
      "Requirement already satisfied: torch>=1.11.0 in c:\\users\\venkat\\downloads\\chat_design\\.venv\\lib\\site-packages (from sentence-transformers) (2.7.1)\n",
      "Requirement already satisfied: scikit-learn in c:\\users\\venkat\\downloads\\chat_design\\.venv\\lib\\site-packages (from sentence-transformers) (1.7.0)\n",
      "Requirement already satisfied: scipy in c:\\users\\venkat\\downloads\\chat_design\\.venv\\lib\\site-packages (from sentence-transformers) (1.16.0)\n",
      "Requirement already satisfied: huggingface-hub>=0.20.0 in c:\\users\\venkat\\downloads\\chat_design\\.venv\\lib\\site-packages (from sentence-transformers) (0.33.2)\n",
      "Requirement already satisfied: Pillow in c:\\users\\venkat\\downloads\\chat_design\\.venv\\lib\\site-packages (from sentence-transformers) (11.3.0)\n",
      "Requirement already satisfied: typing_extensions>=4.5.0 in c:\\users\\venkat\\downloads\\chat_design\\.venv\\lib\\site-packages (from sentence-transformers) (4.14.1)\n",
      "Requirement already satisfied: filelock in c:\\users\\venkat\\downloads\\chat_design\\.venv\\lib\\site-packages (from transformers<5.0.0,>=4.41.0->sentence-transformers) (3.18.0)\n",
      "Requirement already satisfied: pyyaml>=5.1 in c:\\users\\venkat\\downloads\\chat_design\\.venv\\lib\\site-packages (from transformers<5.0.0,>=4.41.0->sentence-transformers) (6.0.2)\n",
      "Requirement already satisfied: regex!=2019.12.17 in c:\\users\\venkat\\downloads\\chat_design\\.venv\\lib\\site-packages (from transformers<5.0.0,>=4.41.0->sentence-transformers) (2024.11.6)\n",
      "Requirement already satisfied: requests in c:\\users\\venkat\\downloads\\chat_design\\.venv\\lib\\site-packages (from transformers<5.0.0,>=4.41.0->sentence-transformers) (2.32.4)\n",
      "Requirement already satisfied: tokenizers<0.22,>=0.21 in c:\\users\\venkat\\downloads\\chat_design\\.venv\\lib\\site-packages (from transformers<5.0.0,>=4.41.0->sentence-transformers) (0.21.2)\n",
      "Requirement already satisfied: safetensors>=0.4.3 in c:\\users\\venkat\\downloads\\chat_design\\.venv\\lib\\site-packages (from transformers<5.0.0,>=4.41.0->sentence-transformers) (0.5.3)\n",
      "Requirement already satisfied: fsspec>=2023.5.0 in c:\\users\\venkat\\downloads\\chat_design\\.venv\\lib\\site-packages (from huggingface-hub>=0.20.0->sentence-transformers) (2025.5.1)\n",
      "Requirement already satisfied: fastavro<2.0.0,>=1.9.4 in c:\\users\\venkat\\downloads\\chat_design\\.venv\\lib\\site-packages (from cohere) (1.11.1)\n",
      "Requirement already satisfied: httpx>=0.21.2 in c:\\users\\venkat\\downloads\\chat_design\\.venv\\lib\\site-packages (from cohere) (0.28.1)\n",
      "Requirement already satisfied: httpx-sse==0.4.0 in c:\\users\\venkat\\downloads\\chat_design\\.venv\\lib\\site-packages (from cohere) (0.4.0)\n",
      "Requirement already satisfied: pydantic>=1.9.2 in c:\\users\\venkat\\downloads\\chat_design\\.venv\\lib\\site-packages (from cohere) (2.11.7)\n",
      "Requirement already satisfied: pydantic-core<3.0.0,>=2.18.2 in c:\\users\\venkat\\downloads\\chat_design\\.venv\\lib\\site-packages (from cohere) (2.33.2)\n",
      "Requirement already satisfied: types-requests<3.0.0,>=2.0.0 in c:\\users\\venkat\\downloads\\chat_design\\.venv\\lib\\site-packages (from cohere) (2.32.4.20250611)\n",
      "Requirement already satisfied: charset_normalizer<4,>=2 in c:\\users\\venkat\\downloads\\chat_design\\.venv\\lib\\site-packages (from requests->transformers<5.0.0,>=4.41.0->sentence-transformers) (3.4.2)\n",
      "Requirement already satisfied: idna<4,>=2.5 in c:\\users\\venkat\\downloads\\chat_design\\.venv\\lib\\site-packages (from requests->transformers<5.0.0,>=4.41.0->sentence-transformers) (3.10)\n",
      "Requirement already satisfied: urllib3<3,>=1.21.1 in c:\\users\\venkat\\downloads\\chat_design\\.venv\\lib\\site-packages (from requests->transformers<5.0.0,>=4.41.0->sentence-transformers) (2.5.0)\n",
      "Requirement already satisfied: certifi>=2017.4.17 in c:\\users\\venkat\\downloads\\chat_design\\.venv\\lib\\site-packages (from requests->transformers<5.0.0,>=4.41.0->sentence-transformers) (2025.7.9)\n",
      "Requirement already satisfied: anyio in c:\\users\\venkat\\downloads\\chat_design\\.venv\\lib\\site-packages (from httpx>=0.21.2->cohere) (4.9.0)\n",
      "Requirement already satisfied: httpcore==1.* in c:\\users\\venkat\\downloads\\chat_design\\.venv\\lib\\site-packages (from httpx>=0.21.2->cohere) (1.0.9)\n",
      "Requirement already satisfied: h11>=0.16 in c:\\users\\venkat\\downloads\\chat_design\\.venv\\lib\\site-packages (from httpcore==1.*->httpx>=0.21.2->cohere) (0.16.0)\n",
      "Requirement already satisfied: annotated-types>=0.6.0 in c:\\users\\venkat\\downloads\\chat_design\\.venv\\lib\\site-packages (from pydantic>=1.9.2->cohere) (0.7.0)\n",
      "Requirement already satisfied: typing-inspection>=0.4.0 in c:\\users\\venkat\\downloads\\chat_design\\.venv\\lib\\site-packages (from pydantic>=1.9.2->cohere) (0.4.1)\n",
      "Requirement already satisfied: sympy>=1.13.3 in c:\\users\\venkat\\downloads\\chat_design\\.venv\\lib\\site-packages (from torch>=1.11.0->sentence-transformers) (1.14.0)\n",
      "Requirement already satisfied: networkx in c:\\users\\venkat\\downloads\\chat_design\\.venv\\lib\\site-packages (from torch>=1.11.0->sentence-transformers) (3.5)\n",
      "Requirement already satisfied: jinja2 in c:\\users\\venkat\\downloads\\chat_design\\.venv\\lib\\site-packages (from torch>=1.11.0->sentence-transformers) (3.1.6)\n",
      "Requirement already satisfied: setuptools in c:\\users\\venkat\\downloads\\chat_design\\.venv\\lib\\site-packages (from torch>=1.11.0->sentence-transformers) (80.9.0)\n",
      "Requirement already satisfied: mpmath<1.4,>=1.1.0 in c:\\users\\venkat\\downloads\\chat_design\\.venv\\lib\\site-packages (from sympy>=1.13.3->torch>=1.11.0->sentence-transformers) (1.3.0)\n",
      "Requirement already satisfied: colorama in c:\\users\\venkat\\downloads\\chat_design\\.venv\\lib\\site-packages (from tqdm->sentence-transformers) (0.4.6)\n",
      "Requirement already satisfied: sniffio>=1.1 in c:\\users\\venkat\\downloads\\chat_design\\.venv\\lib\\site-packages (from anyio->httpx>=0.21.2->cohere) (1.3.1)\n",
      "Requirement already satisfied: MarkupSafe>=2.0 in c:\\users\\venkat\\downloads\\chat_design\\.venv\\lib\\site-packages (from jinja2->torch>=1.11.0->sentence-transformers) (3.0.2)\n",
      "Requirement already satisfied: joblib>=1.2.0 in c:\\users\\venkat\\downloads\\chat_design\\.venv\\lib\\site-packages (from scikit-learn->sentence-transformers) (1.5.1)\n",
      "Requirement already satisfied: threadpoolctl>=3.1.0 in c:\\users\\venkat\\downloads\\chat_design\\.venv\\lib\\site-packages (from scikit-learn->sentence-transformers) (3.6.0)\n",
      "Note: you may need to restart the kernel to use updated packages.\n"
     ]
    }
   ],
   "source": [
    "%pip install faiss-cpu sentence-transformers cohere PyPDF2 python-dotenv\n"
   ]
  },
  {
   "cell_type": "code",
   "execution_count": 58,
   "id": "c4c1a04c",
   "metadata": {},
   "outputs": [
    {
     "data": {
      "text/plain": [
       "True"
      ]
     },
     "execution_count": 58,
     "metadata": {},
     "output_type": "execute_result"
    }
   ],
   "source": [
    "import os\n",
    "from dotenv import load_dotenv\n",
    "\n",
    "# Set Cohere API key\n",
    "os.environ[\"COHERE_API_KEY\"] = \"z84ubqCwrxd6jnLaynmvvdpuoSt6evaytw3tphUB\"\n",
    "load_dotenv()\n"
   ]
  },
  {
   "cell_type": "code",
   "execution_count": 59,
   "id": "5f3c5ae7",
   "metadata": {},
   "outputs": [
    {
     "name": "stderr",
     "output_type": "stream",
     "text": [
      "Batches: 100%|██████████| 1/1 [00:00<00:00,  1.88it/s]"
     ]
    },
    {
     "name": "stdout",
     "output_type": "stream",
     "text": [
      "Ingested 5 chunks from 5 files.\n"
     ]
    },
    {
     "name": "stderr",
     "output_type": "stream",
     "text": [
      "\n"
     ]
    }
   ],
   "source": [
    "from app.document_ingestor import ingest_docs\n",
    "\n",
    "# Ingest documents from your folder\n",
    "ingest_docs(\"sample_docs\")\n"
   ]
  },
  {
   "cell_type": "code",
   "execution_count": 60,
   "id": "3a9832d9",
   "metadata": {},
   "outputs": [],
   "source": [
    "import time\n",
    "from app.retriever import retrieve\n",
    "from app.generator import generate\n",
    "\n",
    "def ask(question):\n",
    "    print(f\"❓ Question: {question}\")\n",
    "    start = time.time()\n",
    "\n",
    "    chunks = retrieve(question)\n",
    "    answer = generate(question, chunks)\n",
    "\n",
    "    end = time.time()\n",
    "    print(\"\\n💬 Answer:\", answer)\n",
    "    print(\"⏱️ Time:\", round(end - start, 2), \"s\")\n"
   ]
  },
  {
   "cell_type": "code",
   "execution_count": 62,
   "id": "98535047",
   "metadata": {},
   "outputs": [
    {
     "name": "stdout",
     "output_type": "stream",
     "text": [
      "❓ Question: What is Python?\n",
      "\n",
      "💬 Answer: Python is a high-level, interpreted programming language known for its readability and simplicity. It supports multiple programming paradigms and is widely used in data science, web development, automation, and AI. [about_python.txt]\n",
      "I don't know.\n",
      "⏱️ Time: 7.17 s\n"
     ]
    }
   ],
   "source": [
    "ask(\"What is Python?\")"
   ]
  },
  {
   "cell_type": "code",
   "execution_count": 64,
   "id": "0ef9db4d",
   "metadata": {},
   "outputs": [
    {
     "name": "stdout",
     "output_type": "stream",
     "text": [
      "❓ Question: What are the benefits of using Python?\n",
      "\n",
      "💬 Answer: One of the benefits of using Python is that it is a high-level interpreted language, making it an easy language to learn and read. It is also widely used in data science, web development, automation, and AI, and can be used on a variety of platforms. [about_python.txt]\n",
      "⏱️ Time: 6.02 s\n"
     ]
    }
   ],
   "source": [
    "ask(\"What are the benefits of using Python?\")"
   ]
  },
  {
   "cell_type": "markdown",
   "id": "527a8fd5",
   "metadata": {},
   "source": [
    "Latency Difference Between VS Code and Streamlit Cloud\n",
    "\n",
    "When I run the chatbot in VS Code on my local machine, the response time is more than 3 seconds. However, when I deploy the same project to Streamlit Cloud, the response is much faster, usually around 1 to 2 seconds.\n",
    "\n",
    "This difference happens because Streamlit Cloud runs on powerful servers with faster internet and optimized infrastructure. On the other hand, my local computer might have slower internet, lower system performance, or more background processes running. These things can slow down the chatbot locally.\n",
    "\n",
    "In summary, it is normal for the deployed version on Streamlit Cloud to work faster than the local version in VS Code."
   ]
  }
 ],
 "metadata": {
  "kernelspec": {
   "display_name": ".venv",
   "language": "python",
   "name": "python3"
  },
  "language_info": {
   "codemirror_mode": {
    "name": "ipython",
    "version": 3
   },
   "file_extension": ".py",
   "mimetype": "text/x-python",
   "name": "python",
   "nbconvert_exporter": "python",
   "pygments_lexer": "ipython3",
   "version": "3.13.3"
  }
 },
 "nbformat": 4,
 "nbformat_minor": 5
}
